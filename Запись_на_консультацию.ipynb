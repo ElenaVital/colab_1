{
  "cells": [
    {
      "cell_type": "markdown",
      "metadata": {
        "id": "view-in-github",
        "colab_type": "text"
      },
      "source": [
        "<a href=\"https://colab.research.google.com/github/ElenaVital/colab_1/blob/main/%D0%97%D0%B0%D0%BF%D0%B8%D1%81%D1%8C_%D0%BD%D0%B0_%D0%BA%D0%BE%D0%BD%D1%81%D1%83%D0%BB%D1%8C%D1%82%D0%B0%D1%86%D0%B8%D1%8E.ipynb\" target=\"_parent\"><img src=\"https://colab.research.google.com/assets/colab-badge.svg\" alt=\"Open In Colab\"/></a>"
      ]
    },
    {
      "cell_type": "markdown",
      "metadata": {
        "id": "hLeYWJRANTvp"
      },
      "source": [
        "Допущения.\n",
        "* Пациент авторизован (нет проверки на авторизацию/регистрацию)\n",
        "* У каждого врача только одна специализация\n",
        "* Нет поиска по частичному вводу (т.е. по вводу \"Терап\" не будет найден \"Терапевт\")\n",
        "* Нет проверки, что пользователь вводит данные (дату, время, подверждение), которых нет среди предложенных\n"
      ]
    },
    {
      "cell_type": "markdown",
      "metadata": {
        "id": "zx5Ok-e4MZxQ"
      },
      "source": [
        "**1. Заполнение данных. Подключение библиотеки**"
      ]
    },
    {
      "cell_type": "code",
      "execution_count": null,
      "metadata": {
        "colab": {
          "base_uri": "https://localhost:8080/"
        },
        "id": "6J_RoVSHJ6fT",
        "outputId": "95a454f7-37d0-4b55-d1a8-1a784bcd5b09"
      },
      "outputs": [
        {
          "output_type": "stream",
          "name": "stdout",
          "text": [
            "    data   time      spec     name    status\n",
            "0   1.06   8:00  терапевт    Орлов  свободен\n",
            "1   1.06   8:30  терапевт    Орлов     занят\n",
            "2   1.06   9:00  терапевт    Орлов  свободен\n",
            "3   1.06   9:30  психолог  Пирогов  свободен\n",
            "4   1.06  10:00  психолог  Пирогов  свободен\n",
            "5   1.06  10:30  психолог  Пирогов  свободен\n",
            "6   1.06   9:30  психолог    Вегин  свободен\n",
            "7   1.06  10:00  психолог    Вегин  свободен\n",
            "8   1.06  10:30  психолог    Вегин  свободен\n",
            "9   2.06  14:00  терапевт    Орлов  свободен\n",
            "10  2.06  14:30  терапевт    Орлов  свободен\n",
            "11  2.06  15:00  терапевт    Орлов  свободен\n",
            "12  3.06  09:30  невролог   Крылов     занят\n",
            "13  3.06  10:00  невролог   Крылов  свободен\n",
            "14  3.06  10:30  невролог   Крылов  свободен\n"
          ]
        }
      ],
      "source": [
        "import pandas as pd\n",
        "\n",
        "d = {'data': ['1.06', '1.06', '1.06', '1.06', '1.06', '1.06', '1.06', '1.06', '1.06', '2.06', '2.06', '2.06', '3.06',\n",
        "              '3.06', '3.06'],\n",
        "     'time': ['8:00', '8:30', '9:00', '9:30', '10:00', '10:30', '9:30', '10:00', '10:30', '14:00', '14:30', '15:00',\n",
        "              '09:30', '10:00', '10:30'],\n",
        "     'spec': ['терапевт', 'терапевт', 'терапевт', 'психолог', 'психолог', 'психолог', 'психолог', 'психолог',\n",
        "              'психолог', 'терапевт', 'терапевт', 'терапевт', 'невролог', 'невролог', 'невролог'],\n",
        "     'name': ['Орлов', 'Орлов', 'Орлов', 'Пирогов', 'Пирогов', 'Пирогов', 'Вегин', 'Вегин', 'Вегин', 'Орлов', 'Орлов',\n",
        "              'Орлов', 'Крылов', 'Крылов', 'Крылов'],\n",
        "     'status': ['свободен', 'занят', 'свободен', 'свободен', 'свободен', 'свободен', 'свободен', 'свободен', 'свободен',\n",
        "                'свободен', 'свободен', 'свободен', 'занят', 'свободен', 'свободен']}\n",
        "df = pd.DataFrame(d)\n",
        "print(df)"
      ]
    },
    {
      "cell_type": "markdown",
      "metadata": {
        "id": "uUYynm6bMCPC"
      },
      "source": [
        "**2. Выбор слота по специализации**\n",
        "\n",
        "\n",
        "\n"
      ]
    },
    {
      "cell_type": "code",
      "execution_count": null,
      "metadata": {
        "colab": {
          "base_uri": "https://localhost:8080/"
        },
        "id": "hyxDGsGwL9Dm",
        "outputId": "4d1446b0-538d-4892-d76e-004f4a5a5c55"
      },
      "outputs": [
        {
          "output_type": "stream",
          "name": "stdout",
          "text": [
            "Введите специализацию (терапевт, психолог, невролог)терапевт\n",
            "выберите дату из доступных:\n",
            " ['1.06' '2.06']1.06\n",
            "выберите время из доступных:['8:00' '9:00']8:00\n",
            "слот выбран\n"
          ]
        }
      ],
      "source": [
        "# Введите специализацию (терапевт, психолог, невролог)\n",
        "input_spec = input('Введите специализацию (терапевт, психолог, невролог)')\n",
        "# input_spec = 'психолог'\n",
        "if input_spec not in df['spec'].values:\n",
        "    print('Данная специализация не найдена.') # Программа завершена\n",
        "else:\n",
        "   df_free_slots_spec = df[(df.status == 'свободен') & (df.spec == input_spec)]  #  свободные слоты у введенной специализации\n",
        "   free_slots_spec = len(df_free_slots_spec)\n",
        "   if free_slots_spec == 0:\n",
        "      print('Отсутствует свободное время для записи, позвоните по номеру XXX, если хотите записаться в лист ожидания')\n",
        "   else:\n",
        "      df_free_spec_data = df[df.spec == input_spec].loc[:,'data'].unique()  #уникальные значения свободных дат, для input_spec\n",
        "      # input_data = '1.06'\n",
        "      input_data = input('выберите дату из доступных:\\n {}'.format(df_free_spec_data))\n",
        "      df_free_spec_data_time = df[(df.status == 'свободен') & (df.spec == input_spec) & (df.data == input_data)] # все свободные слоты в выбранную дату выбранной специализации\n",
        "      df_unique_slot = df_free_spec_data_time.loc[:,'time'].unique()\n",
        "\n",
        "      # input_time = '10:30'\n",
        "      input_time = input('выберите время из доступных:{}'.format(df_unique_slot))\n",
        "\n",
        "      #print(*df_unique_slot)\n",
        "      df_slot = df[(df.data == input_data) & (df.time == input_time) & (df.spec == input_spec)]\n",
        "      if len(df_slot) > 1: # если есть несколько врачей одной специальности в одинаковое дату и время, выбрать конкретного врача.\n",
        "        input_spec_name = input('В это время принимают несколько врачей. Выберите врача из доступных:{}'.format(df_slot['name'].values))\n",
        "        df_slot = df[(df.data == input_data) & (df.time == input_time) & (df.spec == input_spec) & (df.name == input_spec_name )]\n",
        "        print('слот выбран')\n",
        "      else:\n",
        "        print('слот выбран')\n",
        "      #slot_number = df_slot.index[0]"
      ]
    },
    {
      "cell_type": "markdown",
      "metadata": {
        "id": "jAqnh55TLz2F"
      },
      "source": [
        "**3. Выбор слота по фамилии врача**\n",
        "\n",
        "\n"
      ]
    },
    {
      "cell_type": "code",
      "execution_count": null,
      "metadata": {
        "colab": {
          "base_uri": "https://localhost:8080/"
        },
        "id": "BgQmdJw3LOZj",
        "outputId": "ec571671-1997-44af-80e0-58d6cf42b8d5"
      },
      "outputs": [
        {
          "output_type": "stream",
          "name": "stdout",
          "text": [
            "Введите фамилию врача (Вегин, Крылов, Орлов, Пирогов)Вегин\n",
            "Есть свободные слоты у данного врача, сейчас подберем!\n",
            "Выберите дату из предложенных \n",
            " ['1.06']1.06\n",
            "Выберите время из предложенных \n",
            "['9:30' '10:00' '10:30']10:00\n",
            "слот выбран\n"
          ]
        }
      ],
      "source": [
        "#input_name = 'Вегин'\n",
        "input_name = input('Введите фамилию врача (Вегин, Крылов, Орлов, Пирогов)')\n",
        "if input_name not in df['name'].values:\n",
        "  print('У нас нет врачей с такой фамилией.')\n",
        "else:\n",
        "  df_free_slots_name = df[(df.status == 'свободен') & (df.name == input_name)]  #  свободные слоты у врача, с введенной фамилией\n",
        "  free_slots_name = len(df_free_slots_name) # количество свободных слотов\n",
        "  if free_slots_name == 0:\n",
        "    print('Отсутствует свободное время для записи к врачу')\n",
        "  else:\n",
        "    print('Есть свободные слоты у данного врача, сейчас подберем!')\n",
        "    df_free_name_data = df[df.name == input_name].loc[:,'data'].unique()  # уникальные значения даты, для input_name\n",
        "    #input_name_data = '1.06'\n",
        "    input_name_data = input('Выберите дату из предложенных \\n {}'.format(df_free_name_data))\n",
        "    df_name_data_time = df[(df.status == 'свободен') & (df.name == input_name) & (df.data == input_name_data)]\n",
        "    df_unique_name_data_time = df_name_data_time.loc[:,'time'].unique() # все свободные слоты времени в выбранную дату выбранного врача\n",
        "    #input_name_data_time = '11:30'\n",
        "    input_name_data_time = input('Выберите время из предложенных \\n{}'.format(df_unique_name_data_time))\n",
        "    df_slot = df[(df.data == input_name_data) & (df.time == input_name_data_time) & (df.name == input_name)]\n",
        "    slot_number = df_slot.index[0]\n",
        "    #print(df_slot)\n",
        "    print('слот выбран')"
      ]
    },
    {
      "cell_type": "markdown",
      "metadata": {
        "id": "rE50qLqOLYDz"
      },
      "source": [
        "**4. Если слот времени выбран. Подтверждение и оплата**\n",
        "\n",
        "\n",
        "\n",
        "\n",
        "\n"
      ]
    },
    {
      "cell_type": "code",
      "execution_count": null,
      "metadata": {
        "colab": {
          "base_uri": "https://localhost:8080/"
        },
        "id": "R-8ilVeaLPjg",
        "outputId": "d3b99b0b-2aef-46fd-a04b-d4f381f69e19"
      },
      "outputs": [
        {
          "output_type": "stream",
          "name": "stdout",
          "text": [
            "Заполните анкету симптомов\n",
            "Вопрос к системе: данные анкеты симптомов заполнены?  да/нет да\n",
            "Вы подтверждаете данные записи? 1.06 в 8:00. Доктор: терапевт Орлов.\n",
            " да/нет да\n",
            "Слот забронирован. Оплатите запись в течение 30 минут или бронь будет отменена\n",
            "Вы принимаете оферту на оказание телемедицинских услуг? да/нетда\n",
            "Вопрос к системе - оплата в течение 30 минут прошла? да/нет да\n",
            "Спасибо! Запись подтверждена. Ждем вас 1.06 в 8:00. Ваш доктор: терапевт Орлов\n"
          ]
        }
      ],
      "source": [
        "# подтверждение данных выбранного слота\n",
        "print('Заполните анкету симптомов')\n",
        "full_form = input('Вопрос к системе: данные анкеты симптомов заполнены?  да/нет ')\n",
        "if full_form == 'да':\n",
        "  input_confirm = input('Вы подтверждаете данные записи? {} в {}. Доктор: {} {}.\\n да/нет '.format(*df_slot['data'].values, *df_slot['time'].values, *df_slot['spec'].values, *df_slot['name'].values))\n",
        "  if input_confirm == 'да':\n",
        "    df.at[slot_number, 'status'] = 'забронирован'\n",
        "    print('Слот забронирован. Оплатите запись в течение 30 минут или бронь будет отменена')\n",
        "    input_offer = input('Вы принимаете оферту на оказание телемедицинских услуг? да/нет')\n",
        "    if input_offer == 'да':\n",
        "      input_paid = input('Вопрос к системе - оплата в течение 30 минут прошла? да/нет ')\n",
        "      if input_paid == 'да':\n",
        "        df.at[slot_number, 'status'] = 'занят'\n",
        "        print('Спасибо! Запись подтверждена. Ждем вас {} в {}. Ваш доктор: {} {}'.format(*df_slot['data'].values, *df_slot['time'].values, *df_slot['spec'].values, *df_slot['name'].values))\n",
        "      else:\n",
        "        df.at[slot_number, 'status'] = 'свободен'\n",
        "        print('Запись на консультацию не оплачена. Бронь отменена.')\n",
        "    else:\n",
        "      print('оферта на оказание телемедицинских услуг не принята. Бронь отменена')\n",
        "      df.at[slot_number, 'status'] = 'свободен'\n",
        "  else:\n",
        "    print('Вы не подтвердили запись на консультацию')\n",
        "else:\n",
        "  print('Не все обязательные поля в анкете симптомов заполнены')\n"
      ]
    }
  ],
  "metadata": {
    "colab": {
      "provenance": [],
      "authorship_tag": "ABX9TyPsSA1rLucpvNOk1hfG9V+X",
      "include_colab_link": true
    },
    "kernelspec": {
      "display_name": "Python 3",
      "name": "python3"
    },
    "language_info": {
      "name": "python"
    }
  },
  "nbformat": 4,
  "nbformat_minor": 0
}